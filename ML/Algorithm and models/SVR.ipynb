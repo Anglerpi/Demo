{
 "cells": [
  {
   "cell_type": "code",
   "execution_count": 2,
   "metadata": {
    "collapsed": true
   },
   "outputs": [],
   "source": [
    "from sklearn.datasets  import load_boston"
   ]
  },
  {
   "cell_type": "code",
   "execution_count": 3,
   "metadata": {
    "collapsed": true
   },
   "outputs": [],
   "source": [
    "boston=load_boston()"
   ]
  },
  {
   "cell_type": "code",
   "execution_count": 4,
   "metadata": {
    "collapsed": false
   },
   "outputs": [
    {
     "name": "stdout",
     "output_type": "stream",
     "text": [
      "Boston House Prices dataset\n",
      "===========================\n",
      "\n",
      "Notes\n",
      "------\n",
      "Data Set Characteristics:  \n",
      "\n",
      "    :Number of Instances: 506 \n",
      "\n",
      "    :Number of Attributes: 13 numeric/categorical predictive\n",
      "    \n",
      "    :Median Value (attribute 14) is usually the target\n",
      "\n",
      "    :Attribute Information (in order):\n",
      "        - CRIM     per capita crime rate by town\n",
      "        - ZN       proportion of residential land zoned for lots over 25,000 sq.ft.\n",
      "        - INDUS    proportion of non-retail business acres per town\n",
      "        - CHAS     Charles River dummy variable (= 1 if tract bounds river; 0 otherwise)\n",
      "        - NOX      nitric oxides concentration (parts per 10 million)\n",
      "        - RM       average number of rooms per dwelling\n",
      "        - AGE      proportion of owner-occupied units built prior to 1940\n",
      "        - DIS      weighted distances to five Boston employment centres\n",
      "        - RAD      index of accessibility to radial highways\n",
      "        - TAX      full-value property-tax rate per $10,000\n",
      "        - PTRATIO  pupil-teacher ratio by town\n",
      "        - B        1000(Bk - 0.63)^2 where Bk is the proportion of blacks by town\n",
      "        - LSTAT    % lower status of the population\n",
      "        - MEDV     Median value of owner-occupied homes in $1000's\n",
      "\n",
      "    :Missing Attribute Values: None\n",
      "\n",
      "    :Creator: Harrison, D. and Rubinfeld, D.L.\n",
      "\n",
      "This is a copy of UCI ML housing dataset.\n",
      "http://archive.ics.uci.edu/ml/datasets/Housing\n",
      "\n",
      "\n",
      "This dataset was taken from the StatLib library which is maintained at Carnegie Mellon University.\n",
      "\n",
      "The Boston house-price data of Harrison, D. and Rubinfeld, D.L. 'Hedonic\n",
      "prices and the demand for clean air', J. Environ. Economics & Management,\n",
      "vol.5, 81-102, 1978.   Used in Belsley, Kuh & Welsch, 'Regression diagnostics\n",
      "...', Wiley, 1980.   N.B. Various transformations are used in the table on\n",
      "pages 244-261 of the latter.\n",
      "\n",
      "The Boston house-price data has been used in many machine learning papers that address regression\n",
      "problems.   \n",
      "     \n",
      "**References**\n",
      "\n",
      "   - Belsley, Kuh & Welsch, 'Regression diagnostics: Identifying Influential Data and Sources of Collinearity', Wiley, 1980. 244-261.\n",
      "   - Quinlan,R. (1993). Combining Instance-Based and Model-Based Learning. In Proceedings on the Tenth International Conference of Machine Learning, 236-243, University of Massachusetts, Amherst. Morgan Kaufmann.\n",
      "   - many more! (see http://archive.ics.uci.edu/ml/datasets/Housing)\n",
      "\n"
     ]
    }
   ],
   "source": [
    "print boston.DESCR"
   ]
  },
  {
   "cell_type": "code",
   "execution_count": 5,
   "metadata": {
    "collapsed": false
   },
   "outputs": [
    {
     "name": "stderr",
     "output_type": "stream",
     "text": [
      "C:\\Users\\liuzhiwei\\Anaconda2\\lib\\site-packages\\sklearn\\cross_validation.py:44: DeprecationWarning: This module was deprecated in version 0.18 in favor of the model_selection module into which all the refactored classes and functions are moved. Also note that the interface of the new CV iterators are different from that of this module. This module will be removed in 0.20.\n",
      "  \"This module will be removed in 0.20.\", DeprecationWarning)\n"
     ]
    }
   ],
   "source": [
    "from sklearn.cross_validation import train_test_split"
   ]
  },
  {
   "cell_type": "code",
   "execution_count": 6,
   "metadata": {
    "collapsed": true
   },
   "outputs": [],
   "source": [
    "import numpy as np"
   ]
  },
  {
   "cell_type": "code",
   "execution_count": 7,
   "metadata": {
    "collapsed": true
   },
   "outputs": [],
   "source": [
    "X=boston.data\n",
    "y=boston.target"
   ]
  },
  {
   "cell_type": "code",
   "execution_count": 8,
   "metadata": {
    "collapsed": false
   },
   "outputs": [
    {
     "data": {
      "text/plain": [
       "(506L,)"
      ]
     },
     "execution_count": 8,
     "metadata": {},
     "output_type": "execute_result"
    }
   ],
   "source": [
    "y.shape"
   ]
  },
  {
   "cell_type": "code",
   "execution_count": 9,
   "metadata": {
    "collapsed": true
   },
   "outputs": [],
   "source": [
    "X_train,X_test,y_train,y_test=train_test_split(X,y,random_state=33,test_size=0.25)"
   ]
  },
  {
   "cell_type": "code",
   "execution_count": 10,
   "metadata": {
    "collapsed": true
   },
   "outputs": [],
   "source": [
    "from sklearn.preprocessing import StandardScaler"
   ]
  },
  {
   "cell_type": "code",
   "execution_count": 11,
   "metadata": {
    "collapsed": true
   },
   "outputs": [],
   "source": [
    "ss_X=StandardScaler()\n",
    "ss_y=StandardScaler()"
   ]
  },
  {
   "cell_type": "code",
   "execution_count": 12,
   "metadata": {
    "collapsed": false
   },
   "outputs": [
    {
     "name": "stderr",
     "output_type": "stream",
     "text": [
      "C:\\Users\\liuzhiwei\\Anaconda2\\lib\\site-packages\\sklearn\\preprocessing\\data.py:586: DeprecationWarning: Passing 1d arrays as data is deprecated in 0.17 and will raise ValueError in 0.19. Reshape your data either using X.reshape(-1, 1) if your data has a single feature or X.reshape(1, -1) if it contains a single sample.\n",
      "  warnings.warn(DEPRECATION_MSG_1D, DeprecationWarning)\n",
      "C:\\Users\\liuzhiwei\\Anaconda2\\lib\\site-packages\\sklearn\\preprocessing\\data.py:649: DeprecationWarning: Passing 1d arrays as data is deprecated in 0.17 and will raise ValueError in 0.19. Reshape your data either using X.reshape(-1, 1) if your data has a single feature or X.reshape(1, -1) if it contains a single sample.\n",
      "  warnings.warn(DEPRECATION_MSG_1D, DeprecationWarning)\n",
      "C:\\Users\\liuzhiwei\\Anaconda2\\lib\\site-packages\\sklearn\\preprocessing\\data.py:649: DeprecationWarning: Passing 1d arrays as data is deprecated in 0.17 and will raise ValueError in 0.19. Reshape your data either using X.reshape(-1, 1) if your data has a single feature or X.reshape(1, -1) if it contains a single sample.\n",
      "  warnings.warn(DEPRECATION_MSG_1D, DeprecationWarning)\n"
     ]
    }
   ],
   "source": [
    "X_train=ss_X.fit_transform(X_train)\n",
    "X_test=ss_X.transform(X_test)\n",
    "y_train=ss_y.fit_transform(y_train)\n",
    "y_test=ss_y.transform(y_test)"
   ]
  },
  {
   "cell_type": "code",
   "execution_count": 13,
   "metadata": {
    "collapsed": false
   },
   "outputs": [
    {
     "data": {
      "text/plain": [
       "(127L, 13L)"
      ]
     },
     "execution_count": 13,
     "metadata": {},
     "output_type": "execute_result"
    }
   ],
   "source": [
    "X_test.shape"
   ]
  },
  {
   "cell_type": "code",
   "execution_count": 14,
   "metadata": {
    "collapsed": false
   },
   "outputs": [
    {
     "name": "stdout",
     "output_type": "stream",
     "text": [
      "[  1.17202994e+00  -2.82736122e-01  -1.37111665e+00  -9.95433590e-02\n",
      "  -1.85751718e-01   1.37529628e-01   6.54779782e-01  -2.41110450e-02\n",
      "  -1.21095449e-01   1.29056643e+00   2.45290077e-01  -2.18079853e-01\n",
      "  -3.79720526e-01  -3.15064256e-01  -9.61626948e-01   7.73316275e-01\n",
      "   1.09659762e+00  -2.50407987e-01  -3.48870898e-02   1.12892576e+00\n",
      "  -3.04288212e-01  -1.33878852e+00  -7.89210231e-01  -6.59897692e-01\n",
      "  -3.48870898e-02   1.25823829e+00  -3.36616346e-01  -5.52137243e-01\n",
      "  -9.95433590e-02  -5.95241423e-01  -8.10762320e-01  -6.70673737e-01\n",
      "  -3.48870898e-02  -8.43090455e-01  -1.64199628e-01  -8.21538365e-01\n",
      "  -1.67284591e+00  -9.72402993e-01  -5.73689333e-01   2.23737987e-01\n",
      "   2.56213972e+00  -6.27569558e-01   1.89931345e-02  -4.55152840e-01\n",
      "  -1.10319404e-01  -4.33600750e-01   4.06930750e-01  -6.72152244e-02\n",
      "   2.23737987e-01  -8.96970679e-01   2.14187397e+00  -6.06017468e-01\n",
      "  -7.79912693e-02   1.46298315e+00  -1.33350001e-02  -3.25840301e-01\n",
      "   1.43065501e+00   2.91774920e+00   2.23737987e-01  -7.79912693e-02\n",
      "  -5.84465378e-01   1.05201493e-01  -3.58168436e-01   1.91409852e-01\n",
      "   5.90123512e-01  -1.53275733e+00  -1.31871494e-01  -3.15064256e-01\n",
      "  -3.25840301e-01   1.69857763e-01  -8.53866500e-01  -1.71595009e+00\n",
      "  -8.32314410e-01  -2.71960077e-01  -1.55430942e+00  -6.27569558e-01\n",
      "   7.73316275e-01  -8.53866500e-01  -3.79720526e-01   2.97691794e-02\n",
      "  -6.38345602e-01  -4.33600750e-01   2.91774920e+00   2.23737987e-01\n",
      "   2.48670741e+00  -1.69439800e+00  -5.52137243e-01   1.31211852e+00\n",
      "   1.48305673e-01  -1.93147099e+00  -6.81449782e-01  -1.21095449e-01\n",
      "   6.00899557e-01  -9.95433590e-02  -2.82736122e-01  -1.31871494e-01\n",
      "   3.74602615e-01   8.37972544e-01   2.91774920e+00  -6.16793513e-01\n",
      "   3.96154705e-01  -2.07303808e-01   5.13212691e-02  -3.68944481e-01\n",
      "  -2.39631942e-01   4.05452242e-02   2.78843667e+00  -7.89210231e-01\n",
      "  -3.58168436e-01  -5.95241423e-01  -1.31871494e-01  -8.96970679e-01\n",
      "   1.61384777e+00  -1.42499688e+00  -5.52137243e-01  -1.16637180e+00\n",
      "  -3.04288212e-01   7.51764185e-01   3.74602615e-01  -4.44376795e-01\n",
      "   1.03194135e+00  -7.78434186e-01  -1.02628322e+00  -1.31871494e-01\n",
      "   7.28733588e-02  -1.18792389e+00  -9.83179038e-01  -7.79912693e-02\n",
      "  -1.06938740e+00   1.10737367e+00   2.91774920e+00  -6.72152244e-02\n",
      "  -5.64391796e-02   9.44254486e-02   6.65555826e-01  -2.28855897e-01\n",
      "   8.36494037e-02  -3.36616346e-01  -9.72402993e-01   5.90123512e-01\n",
      "   2.42205114e+00   8.36494037e-02   2.91774920e+00  -5.30585154e-01\n",
      "  -6.27569558e-01  -4.33600750e-01  -1.34956456e+00   1.91409852e-01\n",
      "   1.05201493e-01   8.21708962e-03  -2.93512167e-01  -1.55430942e+00\n",
      "  -9.40074859e-01  -2.82736122e-01  -4.76704929e-01  -1.17714785e+00\n",
      "  -3.90496570e-01  -2.50407987e-01  -7.35330006e-01  -1.14481971e+00\n",
      "   1.89931345e-02  -2.41110450e-02  -2.82736122e-01  -6.70673737e-01\n",
      "   5.36243288e-01  -1.64199628e-01  -1.59741360e+00   1.58151964e+00\n",
      "  -7.89210231e-01   7.19436051e-01  -2.55895525e-03   2.02185897e-01\n",
      "   1.59081718e-01   2.91774920e+00   6.22451647e-01   2.91774920e+00\n",
      "  -6.92225827e-01  -5.09033064e-01   2.91774920e+00  -7.24553961e-01\n",
      "  -9.50850904e-01  -1.85751718e-01  -4.87480974e-01   2.23737987e-01\n",
      "   2.91774920e+00  -1.85751718e-01  -2.71960077e-01  -8.32314410e-01\n",
      "  -9.95433590e-02  -3.36616346e-01  -8.87673142e-02   1.05201493e-01\n",
      "   1.80633807e-01   1.05201493e-01  -1.31871494e-01   2.35739487e+00\n",
      "  -1.69439800e+00  -4.76704929e-01  -3.04288212e-01   4.05452242e-02\n",
      "  -4.01272615e-01   6.65555826e-01   8.70300679e-01  -2.55895525e-03\n",
      "   4.93139109e-01   1.81859263e+00  -9.95433590e-02  -1.33350001e-02\n",
      "  -2.55895525e-03  -9.29298814e-01  -9.07746724e-01  -5.64391796e-02\n",
      "  -3.90496570e-01   9.78061128e-01  -3.04288212e-01  -4.98257019e-01\n",
      "   1.69857763e-01  -4.87480974e-01   1.89931345e-02  -3.48870898e-02\n",
      "  -2.93512167e-01  -5.52137243e-01   9.34956948e-01   2.21730629e+00\n",
      "   1.45220710e+00  -1.25258016e+00  -2.61184032e-01   2.97691794e-02\n",
      "   7.40988141e-01  -2.50407987e-01   1.48305673e-01  -5.19809109e-01\n",
      "  -4.12048660e-01  -1.64199628e-01   9.24180903e-01  -4.01272615e-01\n",
      "  -9.29298814e-01   2.02185897e-01  -1.96527763e-01  -5.09033064e-01\n",
      "   2.73455644e+00  -3.79720526e-01  -1.85751718e-01  -1.29568434e+00\n",
      "   4.93139109e-01   1.26901434e+00  -9.18522769e-01  -1.33350001e-02\n",
      "  -5.52137243e-01   2.91774920e+00   1.59081718e-01  -1.09093949e+00\n",
      "   8.48748589e-01   5.68571423e-01   2.23737987e-01   1.09659762e+00\n",
      "   4.93139109e-01  -1.10171553e+00   2.17420211e+00  -1.02628322e+00\n",
      "  -1.53423583e-01   1.12892576e+00   9.44254486e-02  -2.07303808e-01\n",
      "   3.96154705e-01  -4.76704929e-01   8.21708962e-03   1.26753583e-01\n",
      "  -2.61184032e-01   9.99613217e-01  -9.18522769e-01  -1.19869994e+00\n",
      "  -3.68944481e-01   8.36494037e-02  -1.04783531e+00   6.54779782e-01\n",
      "  -5.09033064e-01  -4.65928885e-01   8.21708962e-03   2.08799375e+00\n",
      "  -6.16793513e-01  -7.24553961e-01  -3.15064256e-01   7.94868365e-01\n",
      "  -2.18079853e-01  -2.71960077e-01   2.02185897e-01  -4.55152840e-01\n",
      "  -6.59897692e-01  -4.56631347e-02  -4.44376795e-01   8.36494037e-02\n",
      "   9.44254486e-02  -3.58168436e-01  -2.71960077e-01  -7.35330006e-01\n",
      "   2.27118651e+00  -3.90496570e-01  -5.95241423e-01  -1.37111665e+00\n",
      "  -1.20947598e+00   1.53841546e+00  -1.28490829e+00   7.28733588e-02\n",
      "  -1.33350001e-02  -8.53866500e-01   1.29056643e+00  -5.41361199e-01\n",
      "   1.59081718e-01   1.69857763e-01  -1.79138240e+00   6.97883961e-01\n",
      "  -1.34956456e+00   1.70005613e+00  -3.15064256e-01  -3.79720526e-01\n",
      "   1.51686337e+00   2.91774920e+00  -4.55152840e-01   2.75610853e+00\n",
      "   1.34444665e+00   5.13212691e-02  -1.71595009e+00   2.91774920e+00\n",
      "  -2.39631942e-01   1.34444665e+00  -1.43577292e+00   2.34514032e-01\n",
      "  -7.35330006e-01   4.39258884e-01  -6.81449782e-01  -1.03705926e+00\n",
      "   2.23737987e-01   1.15977538e-01  -3.58168436e-01   7.19436051e-01\n",
      "  -1.31871494e-01  -4.12048660e-01  -9.95433590e-02  -1.03705926e+00\n",
      "   4.50034929e-01  -2.55895525e-03   1.10737367e+00  -1.01550717e+00\n",
      "  -9.07746724e-01  -1.57586151e+00   2.02333748e+00   8.91852769e-01\n",
      "   1.05201493e-01   1.89931345e-02   1.48305673e-01  -4.98257019e-01\n",
      "  -2.28855897e-01   5.47019333e-01  -3.68944481e-01  -1.53423583e-01\n",
      "  -1.05861135e+00  -1.12326762e+00   9.45732993e-01  -1.05861135e+00\n",
      "   1.89931345e-02  -9.07746724e-01  -7.79912693e-02  -1.05861135e+00\n",
      "   1.54919151e+00  -9.95433590e-02  -1.37111665e+00  -1.93147099e+00\n",
      "  -3.90496570e-01  -7.46106051e-01  -4.65928885e-01   2.91774920e+00\n",
      "   9.34956948e-01   1.26753583e-01  -7.89210231e-01  -3.79720526e-01\n",
      "   4.05452242e-02   2.97691794e-02  -1.00473113e+00]\n"
     ]
    }
   ],
   "source": [
    "print y_train"
   ]
  },
  {
   "cell_type": "code",
   "execution_count": 15,
   "metadata": {
    "collapsed": true
   },
   "outputs": [],
   "source": [
    "from sklearn.svm import  SVR"
   ]
  },
  {
   "cell_type": "code",
   "execution_count": 16,
   "metadata": {
    "collapsed": false
   },
   "outputs": [],
   "source": [
    "linear_svr=SVR(kernel=\"linear\")\n",
    "linear_svr.fit(X_train,y_train)\n",
    "linear_svr_y_pred=linear_svr.predict(X_test)"
   ]
  },
  {
   "cell_type": "code",
   "execution_count": 17,
   "metadata": {
    "collapsed": true
   },
   "outputs": [],
   "source": [
    "poly_svr=SVR(kernel=\"poly\")\n",
    "poly_svr.fit(X_train,y_train)\n",
    "poly_svr_y_pred=poly_svr.predict(X_test)"
   ]
  },
  {
   "cell_type": "code",
   "execution_count": 18,
   "metadata": {
    "collapsed": true
   },
   "outputs": [],
   "source": [
    "rbf_svr=SVR(kernel=\"rbf\")\n",
    "rbf_svr.fit(X_train,y_train)\n",
    "rbf_svr_y_pred=rbf_svr.predict(X_test)"
   ]
  },
  {
   "cell_type": "code",
   "execution_count": 19,
   "metadata": {
    "collapsed": true
   },
   "outputs": [],
   "source": [
    "from sklearn.metrics import r2_score,mean_absolute_error,mean_squared_error"
   ]
  },
  {
   "cell_type": "code",
   "execution_count": 21,
   "metadata": {
    "collapsed": false
   },
   "outputs": [
    {
     "name": "stdout",
     "output_type": "stream",
     "text": [
      "0.65171709743\n",
      "27.0063071393\n",
      "3.42667291687\n"
     ]
    }
   ],
   "source": [
    "print linear_svr.score(X_test,y_test)\n",
    "print mean_squared_error(ss_y.inverse_transform(y_test),ss_y.inverse_transform(linear_svr_y_pred))\n",
    "print mean_absolute_error(ss_y.inverse_transform(y_test),ss_y.inverse_transform(linear_svr_y_pred))"
   ]
  },
  {
   "cell_type": "code",
   "execution_count": 22,
   "metadata": {
    "collapsed": false
   },
   "outputs": [
    {
     "name": "stdout",
     "output_type": "stream",
     "text": [
      "0.404454058003\n",
      "46.179403314\n",
      "3.75205926674\n"
     ]
    }
   ],
   "source": [
    "print poly_svr.score(X_test,y_test)\n",
    "print mean_squared_error(ss_y.inverse_transform(y_test),ss_y.inverse_transform(poly_svr_y_pred))\n",
    "print mean_absolute_error(ss_y.inverse_transform(y_test),ss_y.inverse_transform(poly_svr_y_pred))"
   ]
  },
  {
   "cell_type": "code",
   "execution_count": 23,
   "metadata": {
    "collapsed": false
   },
   "outputs": [
    {
     "name": "stdout",
     "output_type": "stream",
     "text": [
      "0.756406891227\n",
      "18.8885250008\n",
      "2.60756329798\n"
     ]
    }
   ],
   "source": [
    "print rbf_svr.score(X_test,y_test)\n",
    "print mean_squared_error(ss_y.inverse_transform(y_test),ss_y.inverse_transform(rbf_svr_y_pred))\n",
    "print mean_absolute_error(ss_y.inverse_transform(y_test),ss_y.inverse_transform(rbf_svr_y_pred))"
   ]
  },
  {
   "cell_type": "code",
   "execution_count": null,
   "metadata": {
    "collapsed": true
   },
   "outputs": [],
   "source": []
  }
 ],
 "metadata": {
  "kernelspec": {
   "display_name": "Python 2",
   "language": "python",
   "name": "python2"
  },
  "language_info": {
   "codemirror_mode": {
    "name": "ipython",
    "version": 2
   },
   "file_extension": ".py",
   "mimetype": "text/x-python",
   "name": "python",
   "nbconvert_exporter": "python",
   "pygments_lexer": "ipython2",
   "version": "2.7.13"
  }
 },
 "nbformat": 4,
 "nbformat_minor": 2
}
